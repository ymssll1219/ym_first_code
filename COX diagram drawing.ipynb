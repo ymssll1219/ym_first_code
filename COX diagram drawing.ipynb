{
 "cells": [
  {
   "cell_type": "code",
   "execution_count": 1,
   "id": "d89ee6b4",
   "metadata": {},
   "outputs": [],
   "source": [
    "import pandas as pd\n",
    "from lifelines import CoxPHFitter\n",
    "from lifelines.utils import concordance_index"
   ]
  },
  {
   "cell_type": "code",
   "execution_count": 2,
   "id": "18a08cb7",
   "metadata": {},
   "outputs": [],
   "source": [
    "df1 = pd.read_csv('g:\\\\001.csv')\n",
    "df2 = pd.read_csv('g:\\\\002.csv')"
   ]
  },
  {
   "cell_type": "code",
   "execution_count": 3,
   "id": "310bfff6",
   "metadata": {},
   "outputs": [],
   "source": [
    "df1['SurvivalTime'] = df1['days_to_death'] / 30.44\n",
    "df2['SurvivalTime'] = df2['days_to_death'] / 30.44\n",
    "selected_genes = ['CD74', 'PSMB1', 'HSP90B1', 'HSPA5', 'CCT7','RALA','MDH1','NFE2L2','ATP5MC1','PCMT1','ZFAND5']\n",
    "gene_columns = ['event', 'SurvivalTime'] + selected_genes\n",
    "df1 = df1[gene_columns]\n",
    "df2 = df2[gene_columns]"
   ]
  },
  {
   "cell_type": "code",
   "execution_count": 4,
   "id": "33b0b837",
   "metadata": {},
   "outputs": [],
   "source": [
    "matched_pairs = []\n",
    "for i, row1 in df1.iterrows():\n",
    "    for j, row2 in df2.iterrows():\n",
    "        if row1['event'] == 1 and row2['event'] == 1 and row1['SurvivalTime'] < row2['SurvivalTime']:\n",
    "            matched_pairs.append((i, j))"
   ]
  },
  {
   "cell_type": "code",
   "execution_count": 5,
   "id": "e84633e0",
   "metadata": {},
   "outputs": [],
   "source": [
    "cph = CoxPHFitter()"
   ]
  },
  {
   "cell_type": "code",
   "execution_count": 6,
   "id": "7adc276f",
   "metadata": {},
   "outputs": [
    {
     "data": {
      "text/plain": [
       "<lifelines.CoxPHFitter: fitted with 96 total observations, 5 right-censored observations>"
      ]
     },
     "execution_count": 6,
     "metadata": {},
     "output_type": "execute_result"
    }
   ],
   "source": [
    "cph.fit(df1, duration_col='SurvivalTime', event_col='event')\n",
    "cph = CoxPHFitter(penalizer=0.01)\n",
    "cph.fit(df2, duration_col='SurvivalTime', event_col='event')"
   ]
  },
  {
   "cell_type": "code",
   "execution_count": 7,
   "id": "44a49048",
   "metadata": {},
   "outputs": [],
   "source": [
    "predicted_survival_1 = cph.predict_survival_function(df1)\n",
    "predicted_hazard_1 = -cph.predict_partial_hazard(df1)\n",
    "predicted_survival_1_values = predicted_survival_1.values\n",
    "predicted_survival_2 = cph.predict_survival_function(df2)\n",
    "predicted_hazard_2 = -cph.predict_partial_hazard(df2)\n",
    "predicted_survival_2_values = predicted_survival_2.values"
   ]
  },
  {
   "cell_type": "code",
   "execution_count": 8,
   "id": "0d9fd32a",
   "metadata": {},
   "outputs": [],
   "source": [
    "df = pd.concat([df1, df2], ignore_index=True)"
   ]
  },
  {
   "cell_type": "code",
   "execution_count": 9,
   "id": "8fe3cc9f",
   "metadata": {},
   "outputs": [
    {
     "data": {
      "text/plain": [
       "<lifelines.CoxPHFitter: fitted with 191 total observations, 5 right-censored observations>"
      ]
     },
     "execution_count": 9,
     "metadata": {},
     "output_type": "execute_result"
    }
   ],
   "source": [
    "cph = CoxPHFitter()\n",
    "cph.fit(df, duration_col='SurvivalTime', event_col='event')"
   ]
  },
  {
   "cell_type": "code",
   "execution_count": 10,
   "id": "9c9c551d",
   "metadata": {},
   "outputs": [],
   "source": [
    "predicted_hazard = -cph.predict_partial_hazard(df)"
   ]
  },
  {
   "cell_type": "code",
   "execution_count": 11,
   "id": "7ac14f1d",
   "metadata": {},
   "outputs": [],
   "source": [
    "c_index = concordance_index(event_times=df['SurvivalTime'], predicted_scores=predicted_hazard, event_observed=df['event'])"
   ]
  },
  {
   "cell_type": "code",
   "execution_count": 12,
   "id": "484429d1",
   "metadata": {},
   "outputs": [],
   "source": [
    "import matplotlib.pyplot as plt\n",
    "predicted_survival = cph.predict_survival_function(df)"
   ]
  },
  {
   "cell_type": "code",
   "execution_count": 13,
   "id": "fcb08743",
   "metadata": {},
   "outputs": [],
   "source": [
    "import matplotlib.pyplot as plt\n",
    "predicted_survival_1 = cph.predict_survival_function(df1[['CD74', 'PSMB1', 'HSP90B1', 'HSPA5', 'CCT7','RALA','MDH1','NFE2L2','ATP5MC1','PCMT1','ZFAND5']])\n",
    "predicted_survival_2 = cph.predict_survival_function(df2[['CD74', 'PSMB1', 'HSP90B1', 'HSPA5', 'CCT7','RALA','MDH1','NFE2L2','ATP5MC1','PCMT1','ZFAND5']])\n",
    "mean_survival_1 = predicted_survival_1.mean(axis=1)\n",
    "mean_survival_2 = predicted_survival_2.mean(axis=1)"
   ]
  },
  {
   "cell_type": "code",
   "execution_count": 14,
   "id": "68f540ba",
   "metadata": {},
   "outputs": [],
   "source": [
    "import matplotlib.pyplot as plt\n",
    "from lifelines.statistics import logrank_test\n",
    "results = logrank_test(df1['SurvivalTime'], df2['SurvivalTime'], event_observed_A=df1['event'], event_observed_B=df2['event'])\n",
    "p_value = results.p_value"
   ]
  },
  {
   "cell_type": "code",
   "execution_count": 15,
   "id": "e41d5171",
   "metadata": {},
   "outputs": [],
   "source": [
    "import matplotlib.pyplot as plt\n",
    "predicted_survival_1 = cph.predict_survival_function(df1[ ['CD74', 'PSMB1', 'HSP90B1', 'HSPA5', 'CCT7','RALA','MDH1','NFE2L2','ATP5MC1','PCMT1','ZFAND5']])\n",
    "predicted_survival_2 = cph.predict_survival_function(df2[ ['CD74', 'PSMB1', 'HSP90B1', 'HSPA5', 'CCT7','RALA','MDH1','NFE2L2','ATP5MC1','PCMT1','ZFAND5']])\n",
    "mean_survival_1 = predicted_survival_1.mean(axis=1)\n",
    "mean_survival_2 = predicted_survival_2.mean(axis=1)"
   ]
  },
  {
   "cell_type": "code",
   "execution_count": 16,
   "id": "f84095c4",
   "metadata": {
    "scrolled": true
   },
   "outputs": [
    {
     "data": {
      "image/png": "[encoded data removed]",
      "text/plain": [
       "<Figure size 432x288 with 1 Axes>"
      ]
     },
     "metadata": {
      "needs_background": "light"
     },
     "output_type": "display_data"
    }
   ],
   "source": [
    "min_time = min(mean_survival_1.index.min(), mean_survival_2.index.min())\n",
    "max_time = max(mean_survival_1.index.max(), mean_survival_2.index.max())\n",
    "plt.xlim(0, 60)\n",
    "plt.step(mean_survival_1.index, mean_survival_1.values, label='LSG', color='red')\n",
    "plt.step(mean_survival_2.index, mean_survival_2.values, label='HSG', color='blue')\n",
    "#plt.xlabel('months')\n",
    "#plt.ylabel('Survival Probability')\n",
    "#plt.title('BLCA')\n",
    "plt.text(30, 0.595, f'Log-rank p-value: {p_value:.2e}', fontsize=12, color='black', bbox=dict(facecolor='white', alpha=0.8))\n",
    "plt.legend(fontsize=20) \n",
    "plt.show()"
   ]
  },
  {
   "cell_type": "code",
   "execution_count": 17,
   "id": "0bf6c93e",
   "metadata": {},
   "outputs": [],
   "source": [
    "import pandas as pd\n",
    "from lifelines import CoxPHFitter\n",
    "from lifelines.utils import concordance_index\n",
    "df1 = pd.read_csv('g:\\\\BRCA1.csv')\n",
    "df2 = pd.read_csv('g:\\\\BRCA2.csv')\n",
    "df1['SurvivalTime'] = df1['days_to_death'] / 30.44\n",
    "df2['SurvivalTime'] = df2['days_to_death'] / 30.44\n",
    "selected_genes = ['SLC39A9','SEL1L','CCDC124','TINF2','SDC1','AP2S1','MGST1','LYPLA2','FAM50A']\n",
    "gene_columns = ['event', 'SurvivalTime'] + selected_genes\n",
    "df1 = df1[gene_columns]\n",
    "df2 = df2[gene_columns]"
   ]
  },
  {
   "cell_type": "code",
   "execution_count": 18,
   "id": "20c4106b",
   "metadata": {},
   "outputs": [],
   "source": [
    "matched_pairs = []\n",
    "for i, row1 in df1.iterrows():\n",
    "    for j, row2 in df2.iterrows():\n",
    "        if row1['event'] == 1 and row2['event'] == 1 and row1['SurvivalTime'] < row2['SurvivalTime']:\n",
    "            matched_pairs.append((i, j))\n",
    "cph = CoxPHFitter()\n",
    "cph.fit(df1, duration_col='SurvivalTime', event_col='event')\n",
    "cph = CoxPHFitter(penalizer=0.01)\n",
    "cph.fit(df2, duration_col='SurvivalTime', event_col='event')\n",
    "predicted_survival_1 = cph.predict_survival_function(df1)\n",
    "predicted_hazard_1 = -cph.predict_partial_hazard(df1)\n",
    "predicted_survival_1_values = predicted_survival_1.values"
   ]
  },
  {
   "cell_type": "code",
   "execution_count": 19,
   "id": "3de0c73c",
   "metadata": {},
   "outputs": [],
   "source": [
    "predicted_survival_2 = cph.predict_survival_function(df2)\n",
    "predicted_hazard_2 = -cph.predict_partial_hazard(df2)\n",
    "predicted_survival_2_values = predicted_survival_2.values\n",
    "df = pd.concat([df1, df2], ignore_index=True)\n",
    "cph = CoxPHFitter()\n",
    "cph.fit(df, duration_col='SurvivalTime', event_col='event')\n",
    "predicted_hazard = -cph.predict_partial_hazard(df)\n",
    "c_index = concordance_index(event_times=df['SurvivalTime'], predicted_scores=predicted_hazard, event_observed=df['event'])"
   ]
  },
  {
   "cell_type": "code",
   "execution_count": 20,
   "id": "3e1d0453",
   "metadata": {},
   "outputs": [
    {
     "data": {
      "image/png": "[encoded data removed]",
      "text/plain": [
       "<Figure size 432x288 with 1 Axes>"
      ]
     },
     "metadata": {
      "needs_background": "light"
     },
     "output_type": "display_data"
    }
   ],
   "source": [
    "import matplotlib.pyplot as plt\n",
    "import matplotlib.pyplot as plt\n",
    "from lifelines.statistics import logrank_test\n",
    "results = logrank_test(df1['SurvivalTime'], df2['SurvivalTime'], event_observed_A=df1['event'], event_observed_B=df2['event'])\n",
    "p_value = results.p_value\n",
    "predicted_survival_1 = cph.predict_survival_function(df1[ ['SLC39A9','SEL1L','CCDC124','TINF2','SDC1','AP2S1','MGST1','LYPLA2','FAM50A']])\n",
    "predicted_survival_2 = cph.predict_survival_function(df2[ ['SLC39A9','SEL1L','CCDC124','TINF2','SDC1','AP2S1','MGST1','LYPLA2','FAM50A']])\n",
    "mean_survival_1 = predicted_survival_1.mean(axis=1)\n",
    "mean_survival_2 = predicted_survival_2.mean(axis=1)\n",
    "min_time = min(mean_survival_1.index.min(), mean_survival_2.index.min())\n",
    "max_time = max(mean_survival_1.index.max(), mean_survival_2.index.max())\n",
    "plt.xlim(0, 60)\n",
    "plt.step(mean_survival_1.index, mean_survival_1.values, label='LSG', color='red')\n",
    "plt.step(mean_survival_2.index, mean_survival_2.values, label='HSG', color='blue')\n",
    "#plt.xlabel('months')\n",
    "#plt.ylabel('Survival Probability')\n",
    "#plt.title('BRCA')\n",
    "plt.text(30, 0.7, f'Log-rank p-value: {p_value:.2e}', fontsize=12, color='black', bbox=dict(facecolor='white', alpha=0.8))\n",
    "plt.legend(fontsize=20) \n",
    "plt.show()"
   ]
  },
  {
   "cell_type": "code",
   "execution_count": 21,
   "id": "0a95287e",
   "metadata": {},
   "outputs": [],
   "source": [
    "import pandas as pd\n",
    "from lifelines import CoxPHFitter\n",
    "from lifelines.utils import concordance_index\n",
    "df1 = pd.read_csv('g:\\\\HNSC1.csv')\n",
    "df2 = pd.read_csv('g:\\\\HNSC2.csv')\n",
    "df1['SurvivalTime'] = df1['days_to_death'] / 30.44\n",
    "df2['SurvivalTime'] = df2['days_to_death'] / 30.44\n",
    "selected_genes = ['PCMT1','TMSB10','KRT16P2','SNX3','SLC44A1','DIP2B']\n",
    "gene_columns = ['event', 'SurvivalTime'] + selected_genes\n",
    "df1 = df1[gene_columns]\n",
    "df2 = df2[gene_columns]\n",
    "matched_pairs = []\n",
    "for i, row1 in df1.iterrows():\n",
    "    for j, row2 in df2.iterrows():\n",
    "        if row1['event'] == 1 and row2['event'] == 1 and row1['SurvivalTime'] < row2['SurvivalTime']:\n",
    "            matched_pairs.append((i, j))\n",
    "cph = CoxPHFitter()\n",
    "cph.fit(df1, duration_col='SurvivalTime', event_col='event')\n",
    "cph = CoxPHFitter(penalizer=0.01)\n",
    "cph.fit(df2, duration_col='SurvivalTime', event_col='event')\n",
    "predicted_survival_1 = cph.predict_survival_function(df1)\n",
    "predicted_hazard_1 = -cph.predict_partial_hazard(df1)\n",
    "predicted_survival_1_values = predicted_survival_1.values\n",
    "predicted_survival_2 = cph.predict_survival_function(df2)\n",
    "predicted_hazard_2 = -cph.predict_partial_hazard(df2)\n",
    "predicted_survival_2_values = predicted_survival_2.values\n",
    "df = pd.concat([df1, df2], ignore_index=True)\n",
    "cph = CoxPHFitter()\n",
    "cph.fit(df, duration_col='SurvivalTime', event_col='event')\n",
    "predicted_hazard = -cph.predict_partial_hazard(df)\n",
    "c_index = concordance_index(event_times=df['SurvivalTime'], predicted_scores=predicted_hazard, event_observed=df['event'])"
   ]
  },
  {
   "cell_type": "code",
   "execution_count": 22,
   "id": "aaf434be",
   "metadata": {},
   "outputs": [
    {
     "data": {
      "image/png": "[encoded data removed]",
      "text/plain": [
       "<Figure size 432x288 with 1 Axes>"
      ]
     },
     "metadata": {
      "needs_background": "light"
     },
     "output_type": "display_data"
    }
   ],
   "source": [
    "import matplotlib.pyplot as plt\n",
    "import matplotlib.pyplot as plt\n",
    "from lifelines.statistics import logrank_test\n",
    "results = logrank_test(df1['SurvivalTime'], df2['SurvivalTime'], event_observed_A=df1['event'], event_observed_B=df2['event'])\n",
    "p_value = results.p_value\n",
    "predicted_survival_1 = cph.predict_survival_function(df1[ ['PCMT1','TMSB10','KRT16P2','SNX3','SLC44A1','DIP2B']])\n",
    "predicted_survival_2 = cph.predict_survival_function(df2[['PCMT1','TMSB10','KRT16P2','SNX3','SLC44A1','DIP2B']])\n",
    "mean_survival_1 = predicted_survival_1.mean(axis=1)\n",
    "mean_survival_2 = predicted_survival_2.mean(axis=1)\n",
    "min_time = min(mean_survival_1.index.min(), mean_survival_2.index.min())\n",
    "max_time = max(mean_survival_1.index.max(), mean_survival_2.index.max())\n",
    "plt.xlim(0, 60)\n",
    "plt.step(mean_survival_1.index, mean_survival_1.values, label='LSG', color='red')\n",
    "plt.step(mean_survival_2.index, mean_survival_2.values, label='HSG', color='blue')\n",
    "#plt.xlabel('months')\n",
    "#plt.ylabel('Survival Probability')\n",
    "#plt.title('HNSC')\n",
    "plt.text(30, 0.625, f'Log-rank p-value: {p_value:.2e}', fontsize=12, color='black', bbox=dict(facecolor='white', alpha=0.8))\n",
    "plt.legend(fontsize=20) \n",
    "plt.show()"
   ]
  },
  {
   "cell_type": "code",
   "execution_count": 23,
   "id": "9032ccd5",
   "metadata": {},
   "outputs": [],
   "source": [
    "import pandas as pd\n",
    "from lifelines import CoxPHFitter\n",
    "from lifelines.utils import concordance_index\n",
    "df1 = pd.read_csv('g:\\\\KIRC1.csv')\n",
    "df2 = pd.read_csv('g:\\\\KIRC2.csv')\n",
    "df1['SurvivalTime'] = df1['days_to_death'] / 30.44\n",
    "df2['SurvivalTime'] = df2['days_to_death'] / 30.44\n",
    "selected_genes = ['PDK4','ERLEC1']\n",
    "gene_columns = ['event', 'SurvivalTime'] + selected_genes\n",
    "df1 = df1[gene_columns]\n",
    "df2 = df2[gene_columns]\n",
    "matched_pairs = []\n",
    "for i, row1 in df1.iterrows():\n",
    "    for j, row2 in df2.iterrows():\n",
    "        if row1['event'] == 1 and row2['event'] == 1 and row1['SurvivalTime'] < row2['SurvivalTime']:\n",
    "            matched_pairs.append((i, j))\n",
    "cph = CoxPHFitter()\n",
    "cph.fit(df1, duration_col='SurvivalTime', event_col='event')\n",
    "cph = CoxPHFitter(penalizer=0.01)\n",
    "cph.fit(df2, duration_col='SurvivalTime', event_col='event')\n",
    "predicted_survival_1 = cph.predict_survival_function(df1)\n",
    "predicted_hazard_1 = -cph.predict_partial_hazard(df1)\n",
    "predicted_survival_1_values = predicted_survival_1.values\n",
    "predicted_survival_2 = cph.predict_survival_function(df2)\n",
    "predicted_hazard_2 = -cph.predict_partial_hazard(df2)\n",
    "predicted_survival_2_values = predicted_survival_2.values\n",
    "df = pd.concat([df1, df2], ignore_index=True)\n",
    "cph = CoxPHFitter()\n",
    "cph.fit(df, duration_col='SurvivalTime', event_col='event')\n",
    "predicted_hazard = -cph.predict_partial_hazard(df)\n",
    "c_index = concordance_index(event_times=df['SurvivalTime'], predicted_scores=predicted_hazard, event_observed=df['event'])"
   ]
  },
  {
   "cell_type": "code",
   "execution_count": 24,
   "id": "dcaf2ead",
   "metadata": {},
   "outputs": [
    {
     "data": {
      "image/png": "[encoded data removed]",
      "text/plain": [
       "<Figure size 432x288 with 1 Axes>"
      ]
     },
     "metadata": {
      "needs_background": "light"
     },
     "output_type": "display_data"
    }
   ],
   "source": [
    "import matplotlib.pyplot as plt\n",
    "import matplotlib.pyplot as plt\n",
    "from lifelines.statistics import logrank_test\n",
    "results = logrank_test(df1['SurvivalTime'], df2['SurvivalTime'], event_observed_A=df1['event'], event_observed_B=df2['event'])\n",
    "p_value = results.p_value\n",
    "predicted_survival_1 = cph.predict_survival_function(df1[ ['PDK4','ERLEC1']])\n",
    "predicted_survival_2 = cph.predict_survival_function(df2[ ['PDK4','ERLEC1']])\n",
    "mean_survival_1 = predicted_survival_1.mean(axis=1)\n",
    "mean_survival_2 = predicted_survival_2.mean(axis=1)\n",
    "min_time = min(mean_survival_1.index.min(), mean_survival_2.index.min())\n",
    "max_time = max(mean_survival_1.index.max(), mean_survival_2.index.max())\n",
    "plt.xlim(0, 60)\n",
    "plt.step(mean_survival_1.index, mean_survival_1.values, label='LSG', color='red')\n",
    "plt.step(mean_survival_2.index, mean_survival_2.values, label='HSG', color='blue')\n",
    "#plt.xlabel('months')\n",
    "#plt.ylabel('Survival Probability')\n",
    "#plt.title('KIRC')\n",
    "plt.text(30, 0.64, f'Log-rank p-value: {p_value:.2e}', fontsize=12, color='black', bbox=dict(facecolor='white', alpha=0.8))\n",
    "plt.legend(fontsize=20) \n",
    "plt.show()"
   ]
  },
  {
   "cell_type": "code",
   "execution_count": 25,
   "id": "19d880d4",
   "metadata": {},
   "outputs": [],
   "source": [
    "import pandas as pd\n",
    "from lifelines import CoxPHFitter\n",
    "from lifelines.utils import concordance_index\n",
    "df1 = pd.read_csv('g:\\\\LIHC1.csv')\n",
    "df2 = pd.read_csv('g:\\\\LIHC2.csv')\n",
    "df1['SurvivalTime'] = df1['days_to_death'] / 30.44\n",
    "df2['SurvivalTime'] = df2['days_to_death'] / 30.44\n",
    "selected_genes = ['ARF5','MRPS35','CPB2','C6','RHOA','CSDE1','PON1','GDI2','SPP2','STRAP','ITIH1','SEC61A1','C8B','PABPC1','YBX1','SCARB1','NDUFB4','CTNNA1','LASP1']\n",
    "gene_columns = ['event', 'SurvivalTime'] + selected_genes\n",
    "df1 = df1[gene_columns]\n",
    "df2 = df2[gene_columns]\n",
    "matched_pairs = []\n",
    "for i, row1 in df1.iterrows():\n",
    "    for j, row2 in df2.iterrows():\n",
    "        if row1['event'] == 1 and row2['event'] == 1 and row1['SurvivalTime'] < row2['SurvivalTime']:\n",
    "            matched_pairs.append((i, j))\n",
    "cph = CoxPHFitter()\n",
    "cph.fit(df1, duration_col='SurvivalTime', event_col='event')\n",
    "cph = CoxPHFitter(penalizer=0.01)\n",
    "cph.fit(df2, duration_col='SurvivalTime', event_col='event')\n",
    "predicted_survival_1 = cph.predict_survival_function(df1)\n",
    "predicted_hazard_1 = -cph.predict_partial_hazard(df1)\n",
    "predicted_survival_1_values = predicted_survival_1.values\n",
    "predicted_survival_2 = cph.predict_survival_function(df2)\n",
    "predicted_hazard_2 = -cph.predict_partial_hazard(df2)\n",
    "predicted_survival_2_values = predicted_survival_2.values\n",
    "df = pd.concat([df1, df2], ignore_index=True)\n",
    "cph = CoxPHFitter()\n",
    "cph.fit(df, duration_col='SurvivalTime', event_col='event')\n",
    "predicted_hazard = -cph.predict_partial_hazard(df)\n",
    "c_index = concordance_index(event_times=df['SurvivalTime'], predicted_scores=predicted_hazard, event_observed=df['event'])"
   ]
  },
  {
   "cell_type": "code",
   "execution_count": 26,
   "id": "025e1613",
   "metadata": {},
   "outputs": [
    {
     "data": {
      "image/png": "[encoded data removed]",
      "text/plain": [
       "<Figure size 432x288 with 1 Axes>"
      ]
     },
     "metadata": {
      "needs_background": "light"
     },
     "output_type": "display_data"
    }
   ],
   "source": [
    "import matplotlib.pyplot as plt\n",
    "import matplotlib.pyplot as plt\n",
    "from lifelines.statistics import logrank_test\n",
    "results = logrank_test(df1['SurvivalTime'], df2['SurvivalTime'], event_observed_A=df1['event'], event_observed_B=df2['event'])\n",
    "p_value = results.p_value\n",
    "predicted_survival_1 = cph.predict_survival_function(df1[ ['ARF5','MRPS35','CPB2','C6','RHOA','CSDE1','PON1','GDI2','SPP2','STRAP','ITIH1','SEC61A1','C8B','PABPC1','YBX1','SCARB1','NDUFB4','CTNNA1','LASP1']])\n",
    "predicted_survival_2 = cph.predict_survival_function(df2[ ['ARF5','MRPS35','CPB2','C6','RHOA','CSDE1','PON1','GDI2','SPP2','STRAP','ITIH1','SEC61A1','C8B','PABPC1','YBX1','SCARB1','NDUFB4','CTNNA1','LASP1']])\n",
    "mean_survival_1 = predicted_survival_1.mean(axis=1)\n",
    "mean_survival_2 = predicted_survival_2.mean(axis=1)\n",
    "min_time = min(mean_survival_1.index.min(), mean_survival_2.index.min())\n",
    "max_time = max(mean_survival_1.index.max(), mean_survival_2.index.max())\n",
    "plt.xlim(0, 60)\n",
    "plt.step(mean_survival_1.index, mean_survival_1.values, label='LSG', color='red')\n",
    "plt.step(mean_survival_2.index, mean_survival_2.values, label='HSG', color='blue')\n",
    "#plt.xlabel('months')\n",
    "#plt.ylabel('Survival Probability')\n",
    "#plt.title('LIHC')\n",
    "plt.text(30, 0.61, f'Log-rank p-value: {p_value:.2e}', fontsize=12, color='black', bbox=dict(facecolor='white', alpha=0.8))\n",
    "plt.legend(fontsize=20) \n",
    "plt.show()\n"
   ]
  },
  {
   "cell_type": "code",
   "execution_count": 27,
   "id": "a96db2ce",
   "metadata": {},
   "outputs": [],
   "source": [
    "import pandas as pd\n",
    "from lifelines import CoxPHFitter\n",
    "from lifelines.utils import concordance_index\n",
    "df1 = pd.read_csv('g:\\\\LUAD1.csv')\n",
    "df2 = pd.read_csv('g:\\\\LUAD2.csv')\n",
    "df1['SurvivalTime'] = df1['days_to_death'] / 30.44\n",
    "df2['SurvivalTime'] = df2['days_to_death'] / 30.44\n",
    "selected_genes = ['PFKP','TYROBP','GDE1','CDC42','RAB20','TFPI']\n",
    "gene_columns = ['event', 'SurvivalTime'] + selected_genes\n",
    "df1 = df1[gene_columns]\n",
    "df2 = df2[gene_columns]\n",
    "matched_pairs = []\n",
    "for i, row1 in df1.iterrows():\n",
    "    for j, row2 in df2.iterrows():\n",
    "        if row1['event'] == 1 and row2['event'] == 1 and row1['SurvivalTime'] < row2['SurvivalTime']:\n",
    "            matched_pairs.append((i, j))\n",
    "cph = CoxPHFitter()\n",
    "cph.fit(df1, duration_col='SurvivalTime', event_col='event')\n",
    "cph = CoxPHFitter(penalizer=0.01)\n",
    "cph.fit(df2, duration_col='SurvivalTime', event_col='event')\n",
    "predicted_survival_1 = cph.predict_survival_function(df1)\n",
    "predicted_hazard_1 = -cph.predict_partial_hazard(df1)\n",
    "predicted_survival_1_values = predicted_survival_1.values\n",
    "predicted_survival_2 = cph.predict_survival_function(df2)\n",
    "predicted_hazard_2 = -cph.predict_partial_hazard(df2)\n",
    "predicted_survival_2_values = predicted_survival_2.values\n",
    "df = pd.concat([df1, df2], ignore_index=True)\n",
    "cph = CoxPHFitter()\n",
    "cph.fit(df, duration_col='SurvivalTime', event_col='event')\n",
    "predicted_hazard = -cph.predict_partial_hazard(df)\n",
    "c_index = concordance_index(event_times=df['SurvivalTime'], predicted_scores=predicted_hazard, event_observed=df['event'])"
   ]
  },
  {
   "cell_type": "code",
   "execution_count": 28,
   "id": "7ca372d1",
   "metadata": {},
   "outputs": [
    {
     "data": {
      "image/png": "[encoded data removed]",
      "text/plain": [
       "<Figure size 432x288 with 1 Axes>"
      ]
     },
     "metadata": {
      "needs_background": "light"
     },
     "output_type": "display_data"
    }
   ],
   "source": [
    "import matplotlib.pyplot as plt\n",
    "import matplotlib.pyplot as plt\n",
    "from lifelines.statistics import logrank_test\n",
    "results = logrank_test(df1['SurvivalTime'], df2['SurvivalTime'], event_observed_A=df1['event'], event_observed_B=df2['event'])\n",
    "p_value = results.p_value\n",
    "predicted_survival_1 = cph.predict_survival_function(df1[ ['PFKP','TYROBP','GDE1','CDC42','RAB20','TFPI']])\n",
    "predicted_survival_2 = cph.predict_survival_function(df2[ ['PFKP','TYROBP','GDE1','CDC42','RAB20','TFPI']])\n",
    "mean_survival_1 = predicted_survival_1.mean(axis=1)\n",
    "mean_survival_2 = predicted_survival_2.mean(axis=1)\n",
    "min_time = min(mean_survival_1.index.min(), mean_survival_2.index.min())\n",
    "max_time = max(mean_survival_1.index.max(), mean_survival_2.index.max())\n",
    "plt.xlim(0, 60)\n",
    "plt.step(mean_survival_1.index, mean_survival_1.values, label='LSG', color='red')\n",
    "plt.step(mean_survival_2.index, mean_survival_2.values, label='HSG', color='blue')\n",
    "#plt.xlabel('months')\n",
    "#plt.ylabel('Survival Probability')\n",
    "#plt.title('LUAD')\n",
    "plt.text(30, 0.61, f'Log-rank p-value: {p_value:.2e}', fontsize=12, color='black', bbox=dict(facecolor='white', alpha=0.8))\n",
    "plt.legend(fontsize=20) \n",
    "plt.show()"
   ]
  },
  {
   "cell_type": "code",
   "execution_count": 29,
   "id": "c25dff38",
   "metadata": {},
   "outputs": [],
   "source": [
    "import pandas as pd\n",
    "from lifelines import CoxPHFitter\n",
    "from lifelines.utils import concordance_index\n",
    "df1 = pd.read_csv('g:\\\\LUSC1.csv')\n",
    "df2 = pd.read_csv('g:\\\\LUSC2.csv')\n",
    "df1['SurvivalTime'] = df1['days_to_death'] / 30.44\n",
    "df2['SurvivalTime'] = df2['days_to_death'] / 30.44\n",
    "selected_genes = ['PLAU','SERPINB1','SLC39A9']\n",
    "gene_columns = ['event', 'SurvivalTime'] + selected_genes\n",
    "df1 = df1[gene_columns]\n",
    "df2 = df2[gene_columns]\n",
    "matched_pairs = []\n",
    "for i, row1 in df1.iterrows():\n",
    "    for j, row2 in df2.iterrows():\n",
    "        if row1['event'] == 1 and row2['event'] == 1 and row1['SurvivalTime'] < row2['SurvivalTime']:\n",
    "            matched_pairs.append((i, j))\n",
    "cph = CoxPHFitter()\n",
    "cph.fit(df1, duration_col='SurvivalTime', event_col='event')\n",
    "cph = CoxPHFitter(penalizer=0.01)\n",
    "cph.fit(df2, duration_col='SurvivalTime', event_col='event')\n",
    "predicted_survival_1 = cph.predict_survival_function(df1)\n",
    "predicted_hazard_1 = -cph.predict_partial_hazard(df1)\n",
    "predicted_survival_1_values = predicted_survival_1.values\n",
    "predicted_survival_2 = cph.predict_survival_function(df2)\n",
    "predicted_hazard_2 = -cph.predict_partial_hazard(df2)\n",
    "predicted_survival_2_values = predicted_survival_2.values\n",
    "df = pd.concat([df1, df2], ignore_index=True)\n",
    "cph = CoxPHFitter()\n",
    "cph.fit(df, duration_col='SurvivalTime', event_col='event')\n",
    "predicted_hazard = -cph.predict_partial_hazard(df)\n",
    "c_index = concordance_index(event_times=df['SurvivalTime'], predicted_scores=predicted_hazard, event_observed=df['event'])"
   ]
  },
  {
   "cell_type": "code",
   "execution_count": 30,
   "id": "fb06f3a5",
   "metadata": {},
   "outputs": [
    {
     "data": {
      "image/png": "[encoded data removed]",
      "text/plain": [
       "<Figure size 432x288 with 1 Axes>"
      ]
     },
     "metadata": {
      "needs_background": "light"
     },
     "output_type": "display_data"
    }
   ],
   "source": [
    "import matplotlib.pyplot as plt\n",
    "import matplotlib.pyplot as plt\n",
    "from lifelines.statistics import logrank_test\n",
    "results = logrank_test(df1['SurvivalTime'], df2['SurvivalTime'], event_observed_A=df1['event'], event_observed_B=df2['event'])\n",
    "p_value = results.p_value\n",
    "predicted_survival_1 = cph.predict_survival_function(df1[ ['PLAU','SERPINB1','SLC39A9']])\n",
    "predicted_survival_2 = cph.predict_survival_function(df2[['PLAU','SERPINB1','SLC39A9']])\n",
    "mean_survival_1 = predicted_survival_1.mean(axis=1)\n",
    "mean_survival_2 = predicted_survival_2.mean(axis=1)\n",
    "min_time = min(mean_survival_1.index.min(), mean_survival_2.index.min())\n",
    "max_time = max(mean_survival_1.index.max(), mean_survival_2.index.max())\n",
    "plt.xlim(0, 60)\n",
    "plt.step(mean_survival_1.index, mean_survival_1.values, label='LSG', color='red')\n",
    "plt.step(mean_survival_2.index, mean_survival_2.values, label='HSG', color='blue')\n",
    "#plt.xlabel('months')\n",
    "#plt.ylabel('Survival Probability')\n",
    "#plt.title('LUSC')\n",
    "plt.text(30, 0.59, f'Log-rank p-value: {p_value:.2e}', fontsize=12, color='black', bbox=dict(facecolor='white', alpha=0.8))\n",
    "plt.legend(fontsize=20) \n",
    "plt.show()\n"
   ]
  },
  {
   "cell_type": "code",
   "execution_count": 31,
   "id": "fdd46e9b",
   "metadata": {},
   "outputs": [],
   "source": [
    "import pandas as pd\n",
    "from lifelines import CoxPHFitter\n",
    "from lifelines.utils import concordance_index\n",
    "df1 = pd.read_csv('g:\\\\OV1.csv')\n",
    "df2 = pd.read_csv('g:\\\\OV2.csv')\n",
    "df1['SurvivalTime'] = df1['days_to_death'] / 30.44\n",
    "df2['SurvivalTime'] = df2['days_to_death'] / 30.44\n",
    "selected_genes = ['ISOC1','CCNI','RTF2','PSMC4','CCNG1','MPZL2','PCMT1','PPP2CB','NOP58','TUSC3']\n",
    "gene_columns = ['event', 'SurvivalTime'] + selected_genes\n",
    "df1 = df1[gene_columns]\n",
    "df2 = df2[gene_columns]\n",
    "matched_pairs = []\n",
    "for i, row1 in df1.iterrows():\n",
    "    for j, row2 in df2.iterrows():\n",
    "        if row1['event'] == 1 and row2['event'] == 1 and row1['SurvivalTime'] < row2['SurvivalTime']:\n",
    "            matched_pairs.append((i, j))\n",
    "cph = CoxPHFitter()\n",
    "cph.fit(df1, duration_col='SurvivalTime', event_col='event')\n",
    "cph = CoxPHFitter(penalizer=0.01)\n",
    "cph.fit(df2, duration_col='SurvivalTime', event_col='event')\n",
    "predicted_survival_1 = cph.predict_survival_function(df1)\n",
    "predicted_hazard_1 = -cph.predict_partial_hazard(df1)\n",
    "predicted_survival_1_values = predicted_survival_1.values\n",
    "predicted_survival_2 = cph.predict_survival_function(df2)\n",
    "predicted_hazard_2 = -cph.predict_partial_hazard(df2)\n",
    "predicted_survival_2_values = predicted_survival_2.values\n",
    "df = pd.concat([df1, df2], ignore_index=True)\n",
    "cph = CoxPHFitter()\n",
    "cph.fit(df, duration_col='SurvivalTime', event_col='event')\n",
    "predicted_hazard = -cph.predict_partial_hazard(df)\n",
    "c_index = concordance_index(event_times=df['SurvivalTime'], predicted_scores=predicted_hazard, event_observed=df['event'])"
   ]
  },
  {
   "cell_type": "code",
   "execution_count": 32,
   "id": "657080b0",
   "metadata": {},
   "outputs": [
    {
     "data": {
      "image/png": "[encoded data removed]",
      "text/plain": [
       "<Figure size 432x288 with 1 Axes>"
      ]
     },
     "metadata": {
      "needs_background": "light"
     },
     "output_type": "display_data"
    }
   ],
   "source": [
    "import matplotlib.pyplot as plt\n",
    "import matplotlib.pyplot as plt\n",
    "from lifelines.statistics import logrank_test\n",
    "results = logrank_test(df1['SurvivalTime'], df2['SurvivalTime'], event_observed_A=df1['event'], event_observed_B=df2['event'])\n",
    "p_value = results.p_value\n",
    "predicted_survival_1 = cph.predict_survival_function(df1[ ['ISOC1','CCNI','RTF2','PSMC4','CCNG1','MPZL2','PCMT1','PPP2CB','NOP58','TUSC3']])\n",
    "predicted_survival_2 = cph.predict_survival_function(df2[ ['ISOC1','CCNI','RTF2','PSMC4','CCNG1','MPZL2','PCMT1','PPP2CB','NOP58','TUSC3']])\n",
    "mean_survival_1 = predicted_survival_1.mean(axis=1)\n",
    "mean_survival_2 = predicted_survival_2.mean(axis=1)\n",
    "min_time = min(mean_survival_1.index.min(), mean_survival_2.index.min())\n",
    "max_time = max(mean_survival_1.index.max(), mean_survival_2.index.max())\n",
    "plt.xlim(0, 60)\n",
    "plt.step(mean_survival_1.index, mean_survival_1.values, label='LSG', color='red')\n",
    "plt.step(mean_survival_2.index, mean_survival_2.values, label='HSG', color='blue')\n",
    "#plt.xlabel('months')\n",
    "#plt.ylabel('Survival Probability')\n",
    "#plt.title('OV')\n",
    "plt.text(30, 0.641, f'Log-rank p-value: {p_value:.2e}', fontsize=12, color='black', bbox=dict(facecolor='white', alpha=0.8))\n",
    "plt.legend(fontsize=20) \n",
    "plt.show()\n"
   ]
  },
  {
   "cell_type": "code",
   "execution_count": 33,
   "id": "24bd9ed5",
   "metadata": {},
   "outputs": [],
   "source": [
    "import pandas as pd\n",
    "from lifelines import CoxPHFitter\n",
    "from lifelines.utils import concordance_index\n",
    "df1 = pd.read_csv('g:\\\\SKCM1.csv')\n",
    "df2 = pd.read_csv('g:\\\\SKCM2.csv')\n",
    "df1['SurvivalTime'] = df1['days_to_death'] / 30.44\n",
    "df2['SurvivalTime'] = df2['days_to_death'] / 30.44\n",
    "selected_genes = ['MPV17','PHF23','AP001324.1','POLDIP2','LYPLA2','CDK5','GPKOW','TXNDC11']\n",
    "gene_columns = ['event', 'SurvivalTime'] + selected_genes\n",
    "df1 = df1[gene_columns]\n",
    "df2 = df2[gene_columns]\n",
    "matched_pairs = []\n",
    "for i, row1 in df1.iterrows():\n",
    "    for j, row2 in df2.iterrows():\n",
    "        if row1['event'] == 1 and row2['event'] == 1 and row1['SurvivalTime'] < row2['SurvivalTime']:\n",
    "            matched_pairs.append((i, j))\n",
    "cph = CoxPHFitter()\n",
    "cph.fit(df1, duration_col='SurvivalTime', event_col='event')\n",
    "cph = CoxPHFitter(penalizer=0.01)\n",
    "cph.fit(df2, duration_col='SurvivalTime', event_col='event')\n",
    "predicted_survival_1 = cph.predict_survival_function(df1)\n",
    "predicted_hazard_1 = -cph.predict_partial_hazard(df1)\n",
    "predicted_survival_1_values = predicted_survival_1.values\n",
    "predicted_survival_2 = cph.predict_survival_function(df2)\n",
    "predicted_hazard_2 = -cph.predict_partial_hazard(df2)\n",
    "predicted_survival_2_values = predicted_survival_2.values\n",
    "df = pd.concat([df1, df2], ignore_index=True)\n",
    "cph = CoxPHFitter()\n",
    "cph.fit(df, duration_col='SurvivalTime', event_col='event')\n",
    "predicted_hazard = -cph.predict_partial_hazard(df)\n",
    "c_index = concordance_index(event_times=df['SurvivalTime'], predicted_scores=predicted_hazard, event_observed=df['event'])"
   ]
  },
  {
   "cell_type": "code",
   "execution_count": 34,
   "id": "e09155e2",
   "metadata": {},
   "outputs": [
    {
     "data": {
      "image/png": "[encoded data removed]",
      "text/plain": [
       "<Figure size 432x288 with 1 Axes>"
      ]
     },
     "metadata": {
      "needs_background": "light"
     },
     "output_type": "display_data"
    }
   ],
   "source": [
    "import matplotlib.pyplot as plt\n",
    "import matplotlib.pyplot as plt\n",
    "from lifelines.statistics import logrank_test\n",
    "results = logrank_test(df1['SurvivalTime'], df2['SurvivalTime'], event_observed_A=df1['event'], event_observed_B=df2['event'])\n",
    "p_value = results.p_value\n",
    "predicted_survival_1 = cph.predict_survival_function(df1[ ['MPV17','PHF23','AP001324.1','POLDIP2','LYPLA2','CDK5','GPKOW','TXNDC11']])\n",
    "predicted_survival_2 = cph.predict_survival_function(df2[ ['MPV17','PHF23','AP001324.1','POLDIP2','LYPLA2','CDK5','GPKOW','TXNDC11']])\n",
    "mean_survival_1 = predicted_survival_1.mean(axis=1)\n",
    "mean_survival_2 = predicted_survival_2.mean(axis=1)\n",
    "min_time = min(mean_survival_1.index.min(), mean_survival_2.index.min())\n",
    "max_time = max(mean_survival_1.index.max(), mean_survival_2.index.max())\n",
    "plt.xlim(0, 60)\n",
    "plt.step(mean_survival_1.index, mean_survival_1.values, label='LSG', color='red')\n",
    "plt.step(mean_survival_2.index, mean_survival_2.values, label='HSG', color='blue')\n",
    "#plt.xlabel('months')\n",
    "#plt.ylabel('Survival Probability')\n",
    "#plt.title('SKCM')\n",
    "plt.text(30, 0.691, f'Log-rank p-value: {p_value:.2e}', fontsize=12, color='black', bbox=dict(facecolor='white', alpha=0.8))\n",
    "plt.legend(fontsize=20) \n",
    "plt.show()"
   ]
  },
  {
   "cell_type": "code",
   "execution_count": 35,
   "id": "888c4608",
   "metadata": {},
   "outputs": [],
   "source": [
    "import pandas as pd\n",
    "from lifelines import CoxPHFitter\n",
    "from lifelines.utils import concordance_index\n",
    "df1 = pd.read_csv('g:\\\\STAD1.csv')\n",
    "df2 = pd.read_csv('g:\\\\STAD2.csv')\n",
    "df1['SurvivalTime'] = df1['days_to_death'] / 30.44\n",
    "df2['SurvivalTime'] = df2['days_to_death'] / 30.44\n",
    "selected_genes = ['NFIX','TTYH3','RAB11B','TCF3','CHPF','AL928646.1','ZBTB7A','TLE5','TSPAN15','CYB561','UPF1','SCAMP4']\n",
    "gene_columns = ['event', 'SurvivalTime'] + selected_genes\n",
    "df1 = df1[gene_columns]\n",
    "df2 = df2[gene_columns]\n",
    "matched_pairs = []\n",
    "for i, row1 in df1.iterrows():\n",
    "    for j, row2 in df2.iterrows():\n",
    "        if row1['event'] == 1 and row2['event'] == 1 and row1['SurvivalTime'] < row2['SurvivalTime']:\n",
    "            matched_pairs.append((i, j))\n",
    "cph = CoxPHFitter()\n",
    "cph.fit(df1, duration_col='SurvivalTime', event_col='event')\n",
    "cph = CoxPHFitter(penalizer=0.01)\n",
    "cph.fit(df2, duration_col='SurvivalTime', event_col='event')\n",
    "predicted_survival_1 = cph.predict_survival_function(df1)\n",
    "predicted_hazard_1 = -cph.predict_partial_hazard(df1)\n",
    "predicted_survival_1_values = predicted_survival_1.values\n",
    "predicted_survival_2 = cph.predict_survival_function(df2)\n",
    "predicted_hazard_2 = -cph.predict_partial_hazard(df2)\n",
    "predicted_survival_2_values = predicted_survival_2.values\n",
    "df = pd.concat([df1, df2], ignore_index=True)\n",
    "cph = CoxPHFitter()\n",
    "cph.fit(df, duration_col='SurvivalTime', event_col='event')\n",
    "predicted_hazard = -cph.predict_partial_hazard(df)\n",
    "c_index = concordance_index(event_times=df['SurvivalTime'], predicted_scores=predicted_hazard, event_observed=df['event'])"
   ]
  },
  {
   "cell_type": "code",
   "execution_count": 36,
   "id": "078bdc2b",
   "metadata": {},
   "outputs": [
    {
     "data": {
      "image/png": "[encoded data removed]",
      "text/plain": [
       "<Figure size 432x288 with 1 Axes>"
      ]
     },
     "metadata": {
      "needs_background": "light"
     },
     "output_type": "display_data"
    }
   ],
   "source": [
    "import matplotlib.pyplot as plt\n",
    "import matplotlib.pyplot as plt\n",
    "from lifelines.statistics import logrank_test\n",
    "results = logrank_test(df1['SurvivalTime'], df2['SurvivalTime'], event_observed_A=df1['event'], event_observed_B=df2['event'])\n",
    "p_value = results.p_value\n",
    "predicted_survival_1 = cph.predict_survival_function(df1[  ['NFIX','TTYH3','RAB11B','TCF3','CHPF','AL928646.1','ZBTB7A','TLE5','TSPAN15','CYB561','UPF1','SCAMP4']])\n",
    "predicted_survival_2 = cph.predict_survival_function(df2[  ['NFIX','TTYH3','RAB11B','TCF3','CHPF','AL928646.1','ZBTB7A','TLE5','TSPAN15','CYB561','UPF1','SCAMP4']])\n",
    "mean_survival_1 = predicted_survival_1.mean(axis=1)\n",
    "mean_survival_2 = predicted_survival_2.mean(axis=1)\n",
    "min_time = min(mean_survival_1.index.min(), mean_survival_2.index.min())\n",
    "max_time = max(mean_survival_1.index.max(), mean_survival_2.index.max())\n",
    "plt.xlim(0, 60)\n",
    "plt.step(mean_survival_1.index, mean_survival_1.values, label='LSG', color='red')\n",
    "plt.step(mean_survival_2.index, mean_survival_2.values, label='HSG', color='blue')\n",
    "#plt.xlabel('months')\n",
    "#plt.ylabel('Survival Probability')\n",
    "#plt.title('STAD')\n",
    "plt.text(30, 0.59, f'Log-rank p-value: {p_value:.2e}', fontsize=12, color='black', bbox=dict(facecolor='white', alpha=0.8))\n",
    "plt.legend(fontsize=20) \n",
    "plt.show()"
   ]
  }
 ],
 "metadata": {
  "kernelspec": {
   "display_name": "Python 3",
   "language": "python",
   "name": "python3"
  },
  "language_info": {
   "codemirror_mode": {
    "name": "ipython",
    "version": 3
   },
   "file_extension": ".py",
   "mimetype": "text/x-python",
   "name": "python",
   "nbconvert_exporter": "python",
   "pygments_lexer": "ipython3",
   "version": "3.6.13"
  }
 },
 "nbformat": 4,
 "nbformat_minor": 5
}
