{
 "cells": [
  {
   "cell_type": "code",
   "execution_count": null,
   "id": "165be733",
   "metadata": {},
   "outputs": [],
   "source": [
    "import h5py\n",
    "import numpy as np\n",
    "import pandas as pd"
   ]
  },
  {
   "cell_type": "code",
   "execution_count": null,
   "id": "810361b5",
   "metadata": {},
   "outputs": [],
   "source": [
    "mo = h5py.File('H:\\\\H5\\\\BLCAq.h5','r')\n",
    "feat = mo['feat']\n",
    "feat = np.array(feat)"
   ]
  },
  {
   "cell_type": "code",
   "execution_count": null,
   "id": "5be79c88",
   "metadata": {},
   "outputs": [],
   "source": [
    "mo = h5py.File('E:/data/mo_xf.h5','r')\n",
    "lab = mo['lab']\n",
    "lab = np.array(lab)"
   ]
  },
  {
   "cell_type": "code",
   "execution_count": null,
   "id": "26e129aa",
   "metadata": {},
   "outputs": [],
   "source": [
    "std = np.std(feat,axis=0)"
   ]
  },
  {
   "cell_type": "code",
   "execution_count": null,
   "id": "7f414793",
   "metadata": {},
   "outputs": [],
   "source": [
    "x = std[std > 5]"
   ]
  },
  {
   "cell_type": "code",
   "execution_count": null,
   "id": "908b66e3",
   "metadata": {},
   "outputs": [],
   "source": [
    "import pandas as pd\n",
    "patho = r'E:/data/DATA/genenametq.tsv'\n",
    "data0 = pd.read_table(patho,header=None,delim_whitespace=True)#encoding='gb2312',index_col=0\n",
    "names1 = data0[0]\n",
    "names2 = data0[1]\n",
    "names1 = names1.values.tolist()\n",
    "names2 = names2.values.tolist()"
   ]
  },
  {
   "cell_type": "code",
   "execution_count": null,
   "id": "d1a90b3b",
   "metadata": {},
   "outputs": [],
   "source": [
    "import time\n",
    "from tqdm import tqdm\n",
    "from tqdm._tqdm import trange"
   ]
  },
  {
   "cell_type": "code",
   "execution_count": null,
   "id": "f09a2035",
   "metadata": {},
   "outputs": [],
   "source": [
    "blist1 = []\n",
    "qlist1 = []\n",
    "blist2 = []\n",
    "qlist2 = []\n",
    "for i in tqdm(range(len(names1))):\n",
    "    time.sleep(0.01)\n",
    "    a = std[i]\n",
    "    if a <= 5:\n",
    "        qlist1.append(i)\n",
    "        qlist2.append(i)\n",
    "    else:\n",
    "        blist1.append(i)\n",
    "        blist2.append(i)"
   ]
  },
  {
   "cell_type": "code",
   "execution_count": null,
   "id": "ee5b21c6",
   "metadata": {},
   "outputs": [],
   "source": [
    "blist1 = np.array(blist1)\n",
    "qlist1 = np.array(qlist1)\n",
    "blist2 = np.array(blist2)\n",
    "qlist2 = np.array(qlist2)"
   ]
  },
  {
   "cell_type": "code",
   "execution_count": null,
   "id": "33b4a337",
   "metadata": {},
   "outputs": [],
   "source": [
    "featq = np.delete(feat,[qlist1],1)"
   ]
  },
  {
   "cell_type": "code",
   "execution_count": null,
   "id": "07b4a0d8",
   "metadata": {},
   "outputs": [],
   "source": [
    "nam1 = []\n",
    "nam2 = []\n",
    "for i in range(len(blist1)):\n",
    "    nam1.append(names1[blist1[i]])\n",
    "    nam2.append(names2[blist2[i]])"
   ]
  },
  {
   "cell_type": "code",
   "execution_count": null,
   "id": "f1785f29",
   "metadata": {},
   "outputs": [],
   "source": [
    "import h5py \n",
    "f = h5py.File('E:/data/prefeat_mo_xfex.h5', 'w')\n",
    "f.create_dataset('feat', data=featq)\n",
    "f.create_dataset('lab', data=lab)\n",
    "f.close()"
   ]
  },
  {
   "cell_type": "code",
   "execution_count": null,
   "id": "46b2d6a3",
   "metadata": {},
   "outputs": [],
   "source": [
    "import re\n",
    "file3 = open('E:/data/prefeat_mo_xfex_name1.txt', 'w')\n",
    "file4 = open('E:/data/prefeat_mo_xfex_name2.txt', 'w')\n",
    "for i in range(len(nam1)):\n",
    "    s = (re.sub(r\"['{ },]*\", '', str(nam1[i])) + '\\n').replace(':', ',')\n",
    "    file3.write(s)\n",
    "    ss = (re.sub(r\"['{ },]*\", '', str(nam2[i])) + '\\n').replace(':', ',')\n",
    "    file4.write(ss)\n",
    "file3.close()\n",
    "file4.close()"
   ]
  }
 ],
 "metadata": {
  "kernelspec": {
   "display_name": "Python 3",
   "language": "python",
   "name": "python3"
  },
  "language_info": {
   "codemirror_mode": {
    "name": "ipython",
    "version": 3
   },
   "file_extension": ".py",
   "mimetype": "text/x-python",
   "name": "python",
   "nbconvert_exporter": "python",
   "pygments_lexer": "ipython3",
   "version": "3.6.13"
  }
 },
 "nbformat": 4,
 "nbformat_minor": 5
}
