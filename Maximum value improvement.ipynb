{
 "cells": [
  {
   "cell_type": "code",
   "execution_count": null,
   "id": "ca383845",
   "metadata": {},
   "outputs": [],
   "source": [
    "import h5py\n",
    "import numpy as np"
   ]
  },
  {
   "cell_type": "code",
   "execution_count": null,
   "id": "1d9ebe0a",
   "metadata": {},
   "outputs": [],
   "source": [
    "original_h5_file = h5py.File(\"G:\\\\DATA4\\\\LUSC\\\\LUSC3.H5\", \"r\")"
   ]
  },
  {
   "cell_type": "code",
   "execution_count": null,
   "id": "57646dbb",
   "metadata": {},
   "outputs": [],
   "source": [
    "luad_data = original_h5_file[\"LUSC\"]\n",
    "luad_data_array = np.array(luad_data)"
   ]
  },
  {
   "cell_type": "code",
   "execution_count": null,
   "id": "8321ea9c",
   "metadata": {},
   "outputs": [],
   "source": [
    "new_h5_file = h5py.File(\"G:/DATA1/LUSCex.h5\", \"w\")"
   ]
  },
  {
   "cell_type": "code",
   "execution_count": null,
   "id": "4a31daf3",
   "metadata": {},
   "outputs": [],
   "source": [
    "luad_data_modified = new_h5_file.create_dataset(\"LUSC_modified\", shape=luad_data.shape, dtype=luad_data.dtype)"
   ]
  },
  {
   "cell_type": "code",
   "execution_count": null,
   "id": "083a92ba",
   "metadata": {},
   "outputs": [],
   "source": [
    "dataset_shape = luad_data.shape"
   ]
  },
  {
   "cell_type": "code",
   "execution_count": null,
   "id": "cdd75f6a",
   "metadata": {},
   "outputs": [],
   "source": [
    "dataset_dtype = luad_data.dtype"
   ]
  },
  {
   "cell_type": "code",
   "execution_count": null,
   "id": "babb82f8",
   "metadata": {},
   "outputs": [],
   "source": [
    "dataset_size = luad_data.size"
   ]
  },
  {
   "cell_type": "code",
   "execution_count": null,
   "id": "78ba83ef",
   "metadata": {},
   "outputs": [],
   "source": [
    "dataset_attributes = luad_data.attrs.keys()"
   ]
  },
  {
   "cell_type": "code",
   "execution_count": null,
   "id": "2b2df82c",
   "metadata": {},
   "outputs": [],
   "source": [
    "luad_data_modified[...] = np.where(luad_data_array > 5000, 1000 + luad_data_array / 100,\n",
    "                                   np.where(luad_data_array > 500, 500 + luad_data_array / 10, luad_data_array))"
   ]
  },
  {
   "cell_type": "code",
   "execution_count": null,
   "id": "19820d3d",
   "metadata": {},
   "outputs": [],
   "source": [
    "max_value = np.max(luad_data_modified)"
   ]
  },
  {
   "cell_type": "code",
   "execution_count": null,
   "id": "934e09b1",
   "metadata": {},
   "outputs": [],
   "source": [
    "original_h5_file.close()\n",
    "new_h5_file.close()"
   ]
  }
 ],
 "metadata": {
  "kernelspec": {
   "display_name": "Python 3",
   "language": "python",
   "name": "python3"
  },
  "language_info": {
   "codemirror_mode": {
    "name": "ipython",
    "version": 3
   },
   "file_extension": ".py",
   "mimetype": "text/x-python",
   "name": "python",
   "nbconvert_exporter": "python",
   "pygments_lexer": "ipython3",
   "version": "3.6.13"
  }
 },
 "nbformat": 4,
 "nbformat_minor": 5
}
