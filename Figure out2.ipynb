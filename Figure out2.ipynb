{
 "cells": [
  {
   "cell_type": "code",
   "execution_count": null,
   "id": "9564e3ff",
   "metadata": {},
   "outputs": [],
   "source": [
    "import h5py\n",
    "import numpy as np\n",
    "import pandas as pd"
   ]
  },
  {
   "cell_type": "code",
   "execution_count": null,
   "id": "ab69fe58",
   "metadata": {},
   "outputs": [],
   "source": [
    "data = h5py.File('d:/h5/newfeatknn_cf.h5','r')\n",
    "feat = data['feat']\n",
    "feat_x = np.array(feat)\n",
    "lab = data['lab']\n",
    "feat_y = np.array(lab)"
   ]
  },
  {
   "cell_type": "code",
   "execution_count": null,
   "id": "7b452787",
   "metadata": {},
   "outputs": [],
   "source": [
    "patho = r'd:/h5/newnameknn_cf.txt'\n",
    "data0 = pd.read_table(patho,header=None,delim_whitespace=True)#encoding='gb2312',index_col=0\n",
    "names = data0[0]\n",
    "names = names.values.tolist()"
   ]
  },
  {
   "cell_type": "code",
   "execution_count": null,
   "id": "e77efdde",
   "metadata": {},
   "outputs": [],
   "source": [
    "std = np.mean(feat_x,axis=0)"
   ]
  },
  {
   "cell_type": "code",
   "execution_count": null,
   "id": "c6de661c",
   "metadata": {},
   "outputs": [],
   "source": [
    "feat = np.vstack((feat_x,std))"
   ]
  },
  {
   "cell_type": "code",
   "execution_count": null,
   "id": "5a1258b2",
   "metadata": {},
   "outputs": [],
   "source": [
    "data = feat.T[np.lexsort(feat)].T"
   ]
  },
  {
   "cell_type": "code",
   "execution_count": null,
   "id": "e9d660a0",
   "metadata": {},
   "outputs": [],
   "source": [
    "N=33"
   ]
  },
  {
   "cell_type": "code",
   "execution_count": null,
   "id": "589e984a",
   "metadata": {},
   "outputs": [],
   "source": [
    "N*N"
   ]
  },
  {
   "cell_type": "code",
   "execution_count": null,
   "id": "dd8c8141",
   "metadata": {},
   "outputs": [],
   "source": [
    "myarray = np.zeros((N, N))\n",
    "df = np.zeros((N, N))\n",
    "x, y = 0, N - 1\n",
    "res = myarray[x][y] = 1\n",
    "while res < N * N:\n",
    "    while x + 1 < N and not myarray[x + 1][y]:\n",
    "        res += 1\n",
    "        x += 1\n",
    "        myarray[x][y] = res\n",
    "        df[x][y] = data[0][min(res - 1, 1088)]\n",
    "    while y - 1 >= 0 and not myarray[x][y - 1]:\n",
    "        res += 1\n",
    "        y -= 1\n",
    "        myarray[x][y] = res\n",
    "        df[x][y] = data[0][min(res - 1, 1088)]\n",
    "    while x - 1 >= 0 and not myarray[x - 1][y]:\n",
    "        res += 1\n",
    "        x -= 1\n",
    "        myarray[x][y] = res\n",
    "        df[x][y] = data[0][min(res - 1, 1088)]\n",
    "    while y + 1 < N and not myarray[x][y + 1]:\n",
    "        res += 1\n",
    "        y += 1\n",
    "        myarray[x][y] = res\n",
    "        df[x][y] = data[0][min(res - 1, 1088)]"
   ]
  },
  {
   "cell_type": "code",
   "execution_count": null,
   "id": "4c569858",
   "metadata": {},
   "outputs": [],
   "source": [
    "import matplotlib.pyplot as plt\n",
    "%matplotlib inline\n",
    "plt.imshow(df,\"gray\")\n",
    "plt.axis('off')"
   ]
  },
  {
   "cell_type": "code",
   "execution_count": null,
   "id": "a24e4bf2",
   "metadata": {},
   "outputs": [],
   "source": [
    "def tran(N,data,i):\n",
    "    myarray = np.zeros((N, N))\n",
    "    df = np.zeros((N, N))\n",
    "    x, y = 0, N - 1\n",
    "    res = myarray[x][y] = 1\n",
    "    while res < N * N:\n",
    "        while x + 1 < N and not myarray[x + 1][y]:\n",
    "            res += 1\n",
    "            x += 1\n",
    "            myarray[x][y] = res\n",
    "            df[x][y] = data[i][min(res - 1, 1088)]\n",
    "        while y - 1 >= 0 and not myarray[x][y - 1]:\n",
    "            res += 1\n",
    "            y -= 1\n",
    "            myarray[x][y] = res\n",
    "            df[x][y] = data[i][min(res - 1, 1088)]\n",
    "        while x - 1 >= 0 and not myarray[x - 1][y]:\n",
    "            res += 1\n",
    "            x -= 1\n",
    "            myarray[x][y] = res\n",
    "            df[x][y] = data[i][min(res - 1, 1088)]\n",
    "        while y + 1 < N and not myarray[x][y + 1]:\n",
    "            res += 1\n",
    "            y += 1\n",
    "            myarray[x][y] = res\n",
    "            df[x][y] = data[i][min(res - 1, 1088)]\n",
    "    return df"
   ]
  },
  {
   "cell_type": "code",
   "execution_count": null,
   "id": "dc2f1ea4",
   "metadata": {},
   "outputs": [],
   "source": [
    "df = tran(33,data,len(feat_x))\n",
    "df.shape"
   ]
  },
  {
   "cell_type": "code",
   "execution_count": null,
   "id": "d38e954d",
   "metadata": {},
   "outputs": [],
   "source": [
    "import matplotlib.pyplot as plt\n",
    "%matplotlib inline\n",
    "plt.imshow(df,\"gray\")\n",
    "plt.axis('off')"
   ]
  },
  {
   "cell_type": "code",
   "execution_count": null,
   "id": "945cd9c1",
   "metadata": {},
   "outputs": [],
   "source": [
    "ddf = np.zeros((len(feat_x),33,33))\n",
    "ddf.shape"
   ]
  },
  {
   "cell_type": "code",
   "execution_count": null,
   "id": "ad129ad7",
   "metadata": {},
   "outputs": [],
   "source": [
    "import time\n",
    "from tqdm import tqdm\n",
    "from tqdm._tqdm import trange"
   ]
  },
  {
   "cell_type": "code",
   "execution_count": null,
   "id": "d100f27e",
   "metadata": {},
   "outputs": [],
   "source": [
    "for i in tqdm(range(len(feat_x))):\n",
    "    time.sleep(0.01)\n",
    "    ddf[i] = tran(33,data,i)"
   ]
  },
  {
   "cell_type": "code",
   "execution_count": null,
   "id": "a313ef99",
   "metadata": {},
   "outputs": [],
   "source": [
    "import matplotlib.pyplot as plt\n",
    "%matplotlib inline\n",
    "plt.imshow(ddf[11073],\"gray\")\n",
    "plt.axis('off')"
   ]
  },
  {
   "cell_type": "code",
   "execution_count": null,
   "id": "c5ecbe4d",
   "metadata": {},
   "outputs": [],
   "source": [
    "import h5py \n",
    "f = h5py.File(r'd:/h5/fmap_cf.h5', 'w')\n",
    "f.create_dataset('map', data=ddf)\n",
    "f.create_dataset('lab', data=feat_y)\n",
    "f.close()"
   ]
  }
 ],
 "metadata": {
  "kernelspec": {
   "display_name": "Python 3",
   "language": "python",
   "name": "python3"
  },
  "language_info": {
   "codemirror_mode": {
    "name": "ipython",
    "version": 3
   },
   "file_extension": ".py",
   "mimetype": "text/x-python",
   "name": "python",
   "nbconvert_exporter": "python",
   "pygments_lexer": "ipython3",
   "version": "3.6.13"
  }
 },
 "nbformat": 4,
 "nbformat_minor": 5
}
