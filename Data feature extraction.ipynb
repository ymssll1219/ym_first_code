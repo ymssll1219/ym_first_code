{
 "cells": [
  {
   "cell_type": "code",
   "execution_count": null,
   "id": "b29bd112",
   "metadata": {},
   "outputs": [],
   "source": [
    "import h5py\n",
    "import numpy as np\n",
    "import pandas as pd\n",
    "from tqdm import trange"
   ]
  },
  {
   "cell_type": "code",
   "execution_count": null,
   "id": "4f34e0c7",
   "metadata": {},
   "outputs": [],
   "source": [
    "from sklearn.feature_selection import RFE"
   ]
  },
  {
   "cell_type": "code",
   "execution_count": null,
   "id": "b5974987",
   "metadata": {},
   "outputs": [],
   "source": [
    "data = h5py.File('d:/h5/prefeat_mo_xfex.h5','r')\n",
    "feat = data['feat']\n",
    "x = np.array(feat)"
   ]
  },
  {
   "cell_type": "code",
   "execution_count": null,
   "id": "3d6ce19e",
   "metadata": {},
   "outputs": [],
   "source": [
    "datal = h5py.File('d:/h5/mo_cflab.h5','r')\n",
    "lab = datal['lab']\n",
    "y = np.array(lab)"
   ]
  },
  {
   "cell_type": "code",
   "execution_count": null,
   "id": "fbc98fc4",
   "metadata": {},
   "outputs": [],
   "source": [
    "patho = r'd:/h5/prefeat_mo_xfex_name2.txt'\n",
    "data0 = pd.read_table(patho,header=None,delim_whitespace=True)#encoding='gb2312',index_col=0\n",
    "names = data0[0]\n",
    "names = names.values.tolist()"
   ]
  },
  {
   "cell_type": "code",
   "execution_count": null,
   "id": "22025767",
   "metadata": {},
   "outputs": [],
   "source": [
    "from sklearn.ensemble import GradientBoostingClassifier"
   ]
  },
  {
   "cell_type": "code",
   "execution_count": null,
   "id": "b831674e",
   "metadata": {},
   "outputs": [],
   "source": [
    "gbdt_clf = GradientBoostingClassifier(n_estimators=300)"
   ]
  },
  {
   "cell_type": "code",
   "execution_count": null,
   "id": "2323145d",
   "metadata": {},
   "outputs": [],
   "source": [
    "from sklearn.neighbors import KNeighborsClassifier\n",
    "knn = KNeighborsClassifier(n_neighbors = 25)"
   ]
  },
  {
   "cell_type": "code",
   "execution_count": null,
   "id": "02c27683",
   "metadata": {},
   "outputs": [],
   "source": [
    "n_features = x.shape[1] \n",
    "rfe = RFE(knn, n_features_to_select=n_features)\n",
    "with trange(n_features) as t:  \n",
    "    for i in t:\n",
    "        rfe.fit(x, y)  \n",
    "        t.set_description(f\"Training RFE ({i+1}/{n_features})\")  "
   ]
  },
  {
   "cell_type": "code",
   "execution_count": null,
   "id": "32fc2c2c",
   "metadata": {},
   "outputs": [],
   "source": [
    "ss = (sorted(zip(map(lambda feature: round(feature, 4), rfe.ranking_), names)))"
   ]
  },
  {
   "cell_type": "code",
   "execution_count": null,
   "id": "3bd9e0b5",
   "metadata": {},
   "outputs": [],
   "source": [
    "sd = str(ss[122][1])"
   ]
  },
  {
   "cell_type": "code",
   "execution_count": null,
   "id": "90574ba7",
   "metadata": {},
   "outputs": [],
   "source": [
    "#new1 = np.zeros((len(lab),15*15))\n",
    "new2 = np.zeros((len(lab),33*33))\n",
    "#new3 = np.zeros((len(lab),61*61))\n",
    "#new4 = np.zeros((len(lab),99*99))"
   ]
  },
  {
   "cell_type": "code",
   "execution_count": null,
   "id": "84735a3d",
   "metadata": {},
   "outputs": [],
   "source": [
    "import time\n",
    "from tqdm import tqdm\n",
    "from tqdm._tqdm import trange"
   ]
  },
  {
   "cell_type": "code",
   "execution_count": null,
   "id": "7e9bed47",
   "metadata": {},
   "outputs": [],
   "source": [
    "for n in tqdm(range(len(lab))):\n",
    "    time.sleep(0.01)\n",
    "    for i in range(1089):\n",
    "        for j in range(len(ss)):\n",
    "            if names[j] == ss[i][1]:\n",
    "                new2[n,i] = x[n,j]"
   ]
  },
  {
   "cell_type": "code",
   "execution_count": null,
   "id": "4c65e4c6",
   "metadata": {},
   "outputs": [],
   "source": [
    "#newn1 = []\n",
    "newn2 = []\n",
    "#newn3 = []\n",
    "#newn4 = []"
   ]
  },
  {
   "cell_type": "code",
   "execution_count": null,
   "id": "16f9e603",
   "metadata": {},
   "outputs": [],
   "source": [
    "for i in tqdm(range(1089)):\n",
    "    time.sleep(0.01)\n",
    "    newn2.append(str(ss[i][1]))"
   ]
  },
  {
   "cell_type": "code",
   "execution_count": null,
   "id": "e904efbf",
   "metadata": {},
   "outputs": [],
   "source": [
    "import h5py \n",
    "f = h5py.File('d:/h5/newfeatknn_cf.h5', 'w')\n",
    "#f.create_dataset('feat1', data=new1)\n",
    "f.create_dataset('feat', data=new2)\n",
    "#f.create_dataset('feat3', data=new3)\n",
    "#f.create_dataset('feat4', data=new4)\n",
    "f.create_dataset('lab', data=y)\n",
    "f.close()"
   ]
  },
  {
   "cell_type": "code",
   "execution_count": null,
   "id": "57665e84",
   "metadata": {},
   "outputs": [],
   "source": [
    "import re\n",
    "file32 = open('d:/h5/newnameknn_cf.txt', 'w')\n",
    "for i in range(len(newn2)):\n",
    "    s = (re.sub(r\"['{ },]*\", '', str(newn2[i])) + '\\n').replace(':', ',')\n",
    "    file32.write(s)\n",
    "file32.close()"
   ]
  }
 ],
 "metadata": {
  "kernelspec": {
   "display_name": "Python 3",
   "language": "python",
   "name": "python3"
  },
  "language_info": {
   "codemirror_mode": {
    "name": "ipython",
    "version": 3
   },
   "file_extension": ".py",
   "mimetype": "text/x-python",
   "name": "python",
   "nbconvert_exporter": "python",
   "pygments_lexer": "ipython3",
   "version": "3.6.13"
  }
 },
 "nbformat": 4,
 "nbformat_minor": 5
}
