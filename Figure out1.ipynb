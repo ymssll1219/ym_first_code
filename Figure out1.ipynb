{
 "cells": [
  {
   "cell_type": "code",
   "execution_count": null,
   "id": "d5ba56bc",
   "metadata": {},
   "outputs": [],
   "source": [
    "import h5py\n",
    "import numpy as np\n",
    "import pandas as pd"
   ]
  },
  {
   "cell_type": "code",
   "execution_count": null,
   "id": "18d80a52",
   "metadata": {},
   "outputs": [],
   "source": [
    "data = h5py.File(r'G:\\DATA1\\newfeat11.h5','r')\n",
    "feat1 = data['feat1']\n",
    "x1 = np.array(feat1)\n",
    "feat2 = data['feat2']\n",
    "x2 = np.array(feat2)\n",
    "feat3 = data['feat3']\n",
    "x3 = np.array(feat3)\n",
    "feat4 = data['feat4']\n",
    "x4 = np.array(feat4)\n",
    "lab = data['lab']\n",
    "y = np.array(lab)"
   ]
  },
  {
   "cell_type": "code",
   "execution_count": null,
   "id": "6e73b110",
   "metadata": {},
   "outputs": [],
   "source": [
    "patho1 = r'G:\\DATA1\\newname1.txt'\n",
    "data01 = pd.read_table(patho1,header=None,delim_whitespace=True)#encoding='gb2312',index_col=0\n",
    "names1 = data01[0]\n",
    "names1 = names1.values.tolist()\n",
    "patho2 = r'G:\\DATA1\\newname2.txt'\n",
    "data02 = pd.read_table(patho2,header=None,delim_whitespace=True)#encoding='gb2312',index_col=0\n",
    "names2 = data02[0]\n",
    "names2 = names2.values.tolist()\n",
    "patho3 = r'G:\\DATA1\\newname3.txt'\n",
    "data03 = pd.read_table(patho3,header=None,delim_whitespace=True)#encoding='gb2312',index_col=0\n",
    "names3 = data03[0]\n",
    "names3 = names3.values.tolist()\n",
    "patho4 = r'G:\\DATA1\\newname4.txt'\n",
    "data04 = pd.read_table(patho4,header=None,delim_whitespace=True)#encoding='gb2312',index_col=0\n",
    "names4 = data04[0]\n",
    "names4 = names4.values.tolist()"
   ]
  },
  {
   "cell_type": "code",
   "execution_count": null,
   "id": "712abe08",
   "metadata": {},
   "outputs": [],
   "source": [
    "std1 = np.mean(x1,axis=0)\n",
    "std2 = np.mean(x2,axis=0)\n",
    "std3 = np.mean(x3,axis=0)\n",
    "std4 = np.mean(x4,axis=0)"
   ]
  },
  {
   "cell_type": "code",
   "execution_count": null,
   "id": "b0e74522",
   "metadata": {},
   "outputs": [],
   "source": [
    "feat1 = np.vstack((x1,std1))\n",
    "feat2 = np.vstack((x2,std2))\n",
    "feat3 = np.vstack((x3,std3))\n",
    "feat4 = np.vstack((x4,std4))"
   ]
  },
  {
   "cell_type": "code",
   "execution_count": null,
   "id": "de15a6fc",
   "metadata": {},
   "outputs": [],
   "source": [
    "data1 = feat1.T[np.lexsort(feat1)].T\n",
    "data2 = feat2.T[np.lexsort(feat2)].T\n",
    "data3 = feat3.T[np.lexsort(feat3)].T\n",
    "data4 = feat4.T[np.lexsort(feat4)].T"
   ]
  },
  {
   "cell_type": "code",
   "execution_count": null,
   "id": "b33f9670",
   "metadata": {},
   "outputs": [],
   "source": [
    "data1=np.round(data1, 4)\n",
    "data2=np.round(data2, 4)\n",
    "data3=np.round(data3, 4)\n",
    "data4=np.round(data4, 4)"
   ]
  },
  {
   "cell_type": "code",
   "execution_count": null,
   "id": "788b0ab8",
   "metadata": {},
   "outputs": [],
   "source": [
    "N=15"
   ]
  },
  {
   "cell_type": "code",
   "execution_count": null,
   "id": "abb6f7ef",
   "metadata": {},
   "outputs": [],
   "source": [
    "myarray = np.zeros((N, N))\n",
    "df = np.zeros((N, N))\n",
    "x, y = 0, N - 1\n",
    "res = myarray[x][y] = 1\n",
    "df[x][y] = data1[0][res-1]"
   ]
  },
  {
   "cell_type": "code",
   "execution_count": null,
   "id": "c0bb70a0",
   "metadata": {},
   "outputs": [],
   "source": [
    "while res < N* N: \n",
    "    while res < N* N:\n",
    "        while x + 1 < N and not myarray[x + 1][y] :\n",
    "            res += 1\n",
    "            x += 1\n",
    "            myarray[x][y] = res\n",
    "            df[x][y] = data1[0][res - 1]\n",
    "        if x + 1 >= N or myarray[x + 1][y] :\n",
    "            break\n",
    "    while res < N* N:   \n",
    "        while y - 1 >= 0 and not myarray[x][y - 1]:\n",
    "            res += 1\n",
    "            y -= 1\n",
    "            myarray[x][y] = res\n",
    "            df[x][y] = data1[0][res - 1]\n",
    "        if y - 1 < 0 or myarray[x][y - 1] :\n",
    "            break\n",
    "    while res < N* N:     \n",
    "        while x - 1 >= 0 and not myarray[x - 1][y]:\n",
    "            res += 1\n",
    "            x -= 1\n",
    "            myarray[x][y] = res\n",
    "            df[x][y] = data1[0][res - 1]\n",
    "        if x - 1 < 0 or myarray[x - 1][y] :\n",
    "            break\n",
    "    while res < N* N:     \n",
    "        while y + 1 < (N-1) and not myarray[x][y + 1]:\n",
    "            res += 1\n",
    "            y += 1\n",
    "            myarray[x][y] = res\n",
    "            df[x][y] = data1[0][res - 1]\n",
    "        if y + 1 >= N or myarray[x][y + 1] :\n",
    "            break"
   ]
  },
  {
   "cell_type": "code",
   "execution_count": null,
   "id": "83f28d5f",
   "metadata": {},
   "outputs": [],
   "source": [
    "import matplotlib.pyplot as plt\n",
    "%matplotlib inline\n",
    "plt.imshow(df,\"gray\")\n",
    "plt.axis('off')"
   ]
  },
  {
   "cell_type": "code",
   "execution_count": null,
   "id": "a2be094e",
   "metadata": {},
   "outputs": [],
   "source": [
    "N=33"
   ]
  },
  {
   "cell_type": "code",
   "execution_count": null,
   "id": "4539258a",
   "metadata": {},
   "outputs": [],
   "source": [
    "myarray = np.zeros((N, N))\n",
    "df = np.zeros((N, N))\n",
    "x, y = 0, N - 1\n",
    "res = myarray[x][y] = 1\n",
    "df[x][y] = data2[0][res-1]"
   ]
  },
  {
   "cell_type": "code",
   "execution_count": null,
   "id": "134e1a1f",
   "metadata": {},
   "outputs": [],
   "source": [
    "while res < N* N: \n",
    "    while res < N* N:\n",
    "        while x + 1 < N and not myarray[x + 1][y] :\n",
    "            res += 1\n",
    "            x += 1\n",
    "            myarray[x][y] = res\n",
    "            df[x][y] = data2[0][res - 1]\n",
    "        if x + 1 >= N or myarray[x + 1][y] :\n",
    "            break\n",
    "    while res < N* N:   \n",
    "        while y - 1 >= 0 and not myarray[x][y - 1]:\n",
    "            res += 1\n",
    "            y -= 1\n",
    "            myarray[x][y] = res\n",
    "            df[x][y] = data2[0][res - 1]\n",
    "        if y - 1 < 0 or myarray[x][y - 1] :\n",
    "            break\n",
    "    while res < N* N:     \n",
    "        while x - 1 >= 0 and not myarray[x - 1][y]:\n",
    "            res += 1\n",
    "            x -= 1\n",
    "            myarray[x][y] = res\n",
    "            df[x][y] = data2[0][res - 1]\n",
    "        if x - 1 < 0 or myarray[x - 1][y] :\n",
    "            break\n",
    "    while res < N* N:     \n",
    "        while y + 1 < (N-1) and not myarray[x][y + 1]:\n",
    "            res += 1\n",
    "            y += 1\n",
    "            myarray[x][y] = res\n",
    "            df[x][y] = data2[0][res - 1]\n",
    "        if y + 1 >= N or myarray[x][y + 1] :\n",
    "            break"
   ]
  },
  {
   "cell_type": "code",
   "execution_count": null,
   "id": "a9532abf",
   "metadata": {},
   "outputs": [],
   "source": [
    "import matplotlib.pyplot as plt\n",
    "%matplotlib inline\n",
    "plt.imshow(df,\"gray\")\n",
    "plt.axis('off')"
   ]
  },
  {
   "cell_type": "code",
   "execution_count": null,
   "id": "b28d4f2d",
   "metadata": {},
   "outputs": [],
   "source": [
    "N=61"
   ]
  },
  {
   "cell_type": "code",
   "execution_count": null,
   "id": "217d04a4",
   "metadata": {},
   "outputs": [],
   "source": [
    "myarray = np.zeros((N, N))\n",
    "df = np.zeros((N, N))\n",
    "x, y = 0, N - 1\n",
    "res = myarray[x][y] = 1\n",
    "df[x][y] = data3[0][res-1]"
   ]
  },
  {
   "cell_type": "code",
   "execution_count": null,
   "id": "91ed34f5",
   "metadata": {},
   "outputs": [],
   "source": [
    "while res < N* N: \n",
    "    while res < N* N:\n",
    "        while x + 1 < N and not myarray[x + 1][y] :\n",
    "            res += 1\n",
    "            x += 1\n",
    "            myarray[x][y] = res\n",
    "            df[x][y] = data3[0][res - 1]\n",
    "        if x + 1 >= N or myarray[x + 1][y] :\n",
    "            break\n",
    "    while res < N* N:   \n",
    "        while y - 1 >= 0 and not myarray[x][y - 1]:\n",
    "            res += 1\n",
    "            y -= 1\n",
    "            myarray[x][y] = res\n",
    "            df[x][y] = data3[0][res - 1]\n",
    "        if y - 1 < 0 or myarray[x][y - 1] :\n",
    "            break\n",
    "    while res < N* N:     \n",
    "        while x - 1 >= 0 and not myarray[x - 1][y]:\n",
    "            res += 1\n",
    "            x -= 1\n",
    "            myarray[x][y] = res\n",
    "            df[x][y] = data3[0][res - 1]\n",
    "        if x - 1 < 0 or myarray[x - 1][y] :\n",
    "            break\n",
    "    while res < N* N:     \n",
    "        while y + 1 < (N-1) and not myarray[x][y + 1]:\n",
    "            res += 1\n",
    "            y += 1\n",
    "            myarray[x][y] = res\n",
    "            df[x][y] = data3[0][res - 1]\n",
    "        if y + 1 >= N or myarray[x][y + 1] :\n",
    "            break"
   ]
  },
  {
   "cell_type": "code",
   "execution_count": null,
   "id": "4ebcaab9",
   "metadata": {},
   "outputs": [],
   "source": [
    "import matplotlib.pyplot as plt\n",
    "%matplotlib inline\n",
    "plt.imshow(df,\"gray\")\n",
    "plt.axis('off')"
   ]
  },
  {
   "cell_type": "code",
   "execution_count": null,
   "id": "586ed856",
   "metadata": {},
   "outputs": [],
   "source": [
    "N=99"
   ]
  },
  {
   "cell_type": "code",
   "execution_count": null,
   "id": "6b8d2c73",
   "metadata": {},
   "outputs": [],
   "source": [
    "myarray = np.zeros((N, N))\n",
    "df = np.zeros((N, N))\n",
    "x, y = 0, N - 1\n",
    "res = myarray[x][y] = 1\n",
    "df[x][y] = data4[0][res-1]"
   ]
  },
  {
   "cell_type": "code",
   "execution_count": null,
   "id": "9636cff6",
   "metadata": {},
   "outputs": [],
   "source": [
    "while res < N* N: \n",
    "    while res < N* N:\n",
    "        while x + 1 < N and not myarray[x + 1][y] :\n",
    "            res += 1\n",
    "            x += 1\n",
    "            myarray[x][y] = res\n",
    "            df[x][y] = data4[0][res - 1]\n",
    "        if x + 1 >= N or myarray[x + 1][y] :\n",
    "            break\n",
    "    while res < N* N:   \n",
    "        while y - 1 >= 0 and not myarray[x][y - 1]:\n",
    "            res += 1\n",
    "            y -= 1\n",
    "            myarray[x][y] = res\n",
    "            df[x][y] = data4[0][res - 1]\n",
    "        if y - 1 < 0 or myarray[x][y - 1] :\n",
    "            break\n",
    "    while res < N* N:     \n",
    "        while x - 1 >= 0 and not myarray[x - 1][y]:\n",
    "            res += 1\n",
    "            x -= 1\n",
    "            myarray[x][y] = res\n",
    "            df[x][y] = data4[0][res - 1]\n",
    "        if x - 1 < 0 or myarray[x - 1][y] :\n",
    "            break\n",
    "    while res < N* N:     \n",
    "        while y + 1 < (N-1) and not myarray[x][y + 1]:\n",
    "            res += 1\n",
    "            y += 1\n",
    "            myarray[x][y] = res\n",
    "            df[x][y] = data4[0][res - 1]\n",
    "        if y + 1 >= N or myarray[x][y + 1] :\n",
    "            break"
   ]
  },
  {
   "cell_type": "code",
   "execution_count": null,
   "id": "29d258af",
   "metadata": {},
   "outputs": [],
   "source": [
    "import matplotlib.pyplot as plt\n",
    "%matplotlib inline\n",
    "plt.imshow(df,\"gray\")\n",
    "plt.axis('off')"
   ]
  },
  {
   "cell_type": "code",
   "execution_count": null,
   "id": "45d36e6f",
   "metadata": {},
   "outputs": [],
   "source": [
    "def tran(N,data,i):\n",
    "    myarray = np.zeros((N, N))\n",
    "    df = np.zeros((N, N))\n",
    "    x, y = 0, N - 1\n",
    "    res = myarray[x][y] = 1\n",
    "    df[x][y] = str(data[i][res+64])\n",
    "    while res < N * N:\n",
    "        while x + 1 < N and (not myarray[x + 1][y]):\n",
    "            res += 1\n",
    "            x += 1\n",
    "            myarray[x][y] = res\n",
    "            df[x][y] = str(data[i][res+64])\n",
    "\n",
    "        while y - 1 >= 0 and not myarray[x][y - 1]:\n",
    "            res += 1\n",
    "            y -= 1\n",
    "            myarray[x][y] = res\n",
    "            df[x][y] = str(data[i][res+64])\n",
    "\n",
    "        while x - 1 >= 0 and not myarray[x - 1][y]:\n",
    "            res += 1\n",
    "            x -= 1\n",
    "            myarray[x][y] = res\n",
    "            df[x][y] = str(data[i][res+64])\n",
    "\n",
    "        while y + 1 < N and not myarray[x][y + 1]:\n",
    "            res += 1\n",
    "            y += 1\n",
    "            myarray[x][y] = res\n",
    "            df[x][y] = str(data[i][res+64])\n",
    "\n",
    "    return df"
   ]
  },
  {
   "cell_type": "code",
   "execution_count": null,
   "id": "0ae33045",
   "metadata": {},
   "outputs": [],
   "source": [
    "df = tran(33,data,123)"
   ]
  }
 ],
 "metadata": {
  "kernelspec": {
   "display_name": "Python 3",
   "language": "python",
   "name": "python3"
  },
  "language_info": {
   "codemirror_mode": {
    "name": "ipython",
    "version": 3
   },
   "file_extension": ".py",
   "mimetype": "text/x-python",
   "name": "python",
   "nbconvert_exporter": "python",
   "pygments_lexer": "ipython3",
   "version": "3.6.13"
  }
 },
 "nbformat": 4,
 "nbformat_minor": 5
}
